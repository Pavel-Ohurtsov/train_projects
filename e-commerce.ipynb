{
 "cells": [
  {
   "cell_type": "markdown",
   "metadata": {},
   "source": [
    "# E-commerce — Выявление профилей потребления"
   ]
  },
  {
   "cell_type": "markdown",
   "metadata": {},
   "source": [
    "###### Дополнительные материалы:\n",
    "- презентация https://docs.google.com/presentation/d/1_r1bdpB-9oEe4PHbSGohHSLf2PF1PQaZFIY6OFcnv-M/edit?usp=sharing\n",
    "- дашборд https://public.tableau.com/profile/pavel7546#!/vizhome/E-commerce2_16119189816050/Dashboard1"
   ]
  },
  {
   "cell_type": "markdown",
   "metadata": {},
   "source": [
    "### План выполнения проекта:\n",
    "<br>[Шаг 1. Предоброботка данных](#step1)\n",
    "<br>[Шаг 2. Исследовательский анализ данных](#step2)\n",
    "<br>[Шаг 3. Сегментация пользователей на основе истории их покупок](#step3)\n",
    "<br>[Шаг 4. Проверка гипотез](#step4)\n",
    "<br>[ВЫВОДЫ](#step5)"
   ]
  },
  {
   "cell_type": "markdown",
   "metadata": {},
   "source": [
    "### Шаг 1. Предоброботка данных<a id='step1'></a>"
   ]
  },
  {
   "cell_type": "markdown",
   "metadata": {},
   "source": [
    "Импортируем необходимые библиотеки"
   ]
  },
  {
   "cell_type": "code",
   "execution_count": 1,
   "metadata": {},
   "outputs": [],
   "source": [
    "import pandas as pd\n",
    "import numpy as np\n",
    "import re\n",
    "import matplotlib.pyplot as plt\n",
    "import seaborn as sns\n",
    "from scipy import stats as st\n",
    "from pandas.plotting import register_matplotlib_converters"
   ]
  },
  {
   "cell_type": "markdown",
   "metadata": {},
   "source": [
    "Загрузим данные и подготовим их к анализу"
   ]
  },
  {
   "cell_type": "code",
   "execution_count": 2,
   "metadata": {},
   "outputs": [
    {
     "data": {
      "text/html": [
       "<div>\n",
       "<style scoped>\n",
       "    .dataframe tbody tr th:only-of-type {\n",
       "        vertical-align: middle;\n",
       "    }\n",
       "\n",
       "    .dataframe tbody tr th {\n",
       "        vertical-align: top;\n",
       "    }\n",
       "\n",
       "    .dataframe thead th {\n",
       "        text-align: right;\n",
       "    }\n",
       "</style>\n",
       "<table border=\"1\" class=\"dataframe\">\n",
       "  <thead>\n",
       "    <tr style=\"text-align: right;\">\n",
       "      <th></th>\n",
       "      <th>date</th>\n",
       "      <th>customer_id</th>\n",
       "      <th>order_id</th>\n",
       "      <th>product</th>\n",
       "      <th>quantity</th>\n",
       "      <th>price</th>\n",
       "    </tr>\n",
       "  </thead>\n",
       "  <tbody>\n",
       "    <tr>\n",
       "      <th>0</th>\n",
       "      <td>2018100100</td>\n",
       "      <td>ee47d746-6d2f-4d3c-9622-c31412542920</td>\n",
       "      <td>68477</td>\n",
       "      <td>Комнатное растение в горшке Алое Вера, d12, h30</td>\n",
       "      <td>1</td>\n",
       "      <td>142.0</td>\n",
       "    </tr>\n",
       "    <tr>\n",
       "      <th>1</th>\n",
       "      <td>2018100100</td>\n",
       "      <td>ee47d746-6d2f-4d3c-9622-c31412542920</td>\n",
       "      <td>68477</td>\n",
       "      <td>Комнатное растение в горшке Кофе Арабика, d12, h25</td>\n",
       "      <td>1</td>\n",
       "      <td>194.0</td>\n",
       "    </tr>\n",
       "    <tr>\n",
       "      <th>2</th>\n",
       "      <td>2018100100</td>\n",
       "      <td>ee47d746-6d2f-4d3c-9622-c31412542920</td>\n",
       "      <td>68477</td>\n",
       "      <td>Радермахера d-12 см h-20 см</td>\n",
       "      <td>1</td>\n",
       "      <td>112.0</td>\n",
       "    </tr>\n",
       "  </tbody>\n",
       "</table>\n",
       "</div>"
      ],
      "text/plain": [
       "         date                           customer_id  order_id  \\\n",
       "0  2018100100  ee47d746-6d2f-4d3c-9622-c31412542920     68477   \n",
       "1  2018100100  ee47d746-6d2f-4d3c-9622-c31412542920     68477   \n",
       "2  2018100100  ee47d746-6d2f-4d3c-9622-c31412542920     68477   \n",
       "\n",
       "                                              product  quantity  price  \n",
       "0     Комнатное растение в горшке Алое Вера, d12, h30         1  142.0  \n",
       "1  Комнатное растение в горшке Кофе Арабика, d12, h25         1  194.0  \n",
       "2                         Радермахера d-12 см h-20 см         1  112.0  "
      ]
     },
     "metadata": {},
     "output_type": "display_data"
    },
    {
     "name": "stdout",
     "output_type": "stream",
     "text": [
      "<class 'pandas.core.frame.DataFrame'>\n",
      "RangeIndex: 6737 entries, 0 to 6736\n",
      "Data columns (total 6 columns):\n",
      " #   Column       Non-Null Count  Dtype  \n",
      "---  ------       --------------  -----  \n",
      " 0   date         6737 non-null   int64  \n",
      " 1   customer_id  6737 non-null   object \n",
      " 2   order_id     6737 non-null   int64  \n",
      " 3   product      6737 non-null   object \n",
      " 4   quantity     6737 non-null   int64  \n",
      " 5   price        6737 non-null   float64\n",
      "dtypes: float64(1), int64(3), object(2)\n",
      "memory usage: 315.9+ KB\n"
     ]
    }
   ],
   "source": [
    "pd.options.display.max_colwidth=150\n",
    "data= pd.read_csv('/datasets/ecommerce_dataset.csv')\n",
    "display(data.head(3))\n",
    "data.info()"
   ]
  },
  {
   "cell_type": "markdown",
   "metadata": {},
   "source": [
    "Пропусков в данных нет, приведем данные к верным типами и удалим возможные дубликаты"
   ]
  },
  {
   "cell_type": "code",
   "execution_count": 3,
   "metadata": {},
   "outputs": [
    {
     "data": {
      "text/plain": [
       "0"
      ]
     },
     "execution_count": 3,
     "metadata": {},
     "output_type": "execute_result"
    }
   ],
   "source": [
    "data['date'] = pd.to_datetime(data['date'], format='%Y%m%d%H')\n",
    "data['product'] = data['product'].str.lower()\n",
    "data.duplicated().sum()"
   ]
  },
  {
   "cell_type": "markdown",
   "metadata": {},
   "source": [
    "Дата приведена к читаемому виду, дубликаты не однаружены"
   ]
  },
  {
   "cell_type": "markdown",
   "metadata": {},
   "source": [
    "Проверим наличие одинаковых заказов, без учета даты"
   ]
  },
  {
   "cell_type": "code",
   "execution_count": 4,
   "metadata": {},
   "outputs": [
    {
     "data": {
      "text/plain": [
       "1864"
      ]
     },
     "execution_count": 4,
     "metadata": {},
     "output_type": "execute_result"
    }
   ],
   "source": [
    "data[['customer_id','order_id','product','quantity', 'price']].duplicated().sum()"
   ]
  },
  {
   "cell_type": "markdown",
   "metadata": {},
   "source": [
    "Видим, что таких заказов достаточно много, потому как один заказ должен соответствовать одной дате, то скорее всего это ошибки, и такие данные лучше удалить."
   ]
  },
  {
   "cell_type": "code",
   "execution_count": 5,
   "metadata": {},
   "outputs": [],
   "source": [
    "data['duplicat'] = data[['customer_id','order_id','product','quantity', 'price']].duplicated()\n",
    "data = data.query('duplicat == False')"
   ]
  },
  {
   "cell_type": "markdown",
   "metadata": {},
   "source": [
    "Добавим столбец с суммой заказа по каждой позиции, удалим более не нужный столбец, о наличии дубликатов."
   ]
  },
  {
   "cell_type": "code",
   "execution_count": 6,
   "metadata": {},
   "outputs": [
    {
     "data": {
      "text/html": [
       "<div>\n",
       "<style scoped>\n",
       "    .dataframe tbody tr th:only-of-type {\n",
       "        vertical-align: middle;\n",
       "    }\n",
       "\n",
       "    .dataframe tbody tr th {\n",
       "        vertical-align: top;\n",
       "    }\n",
       "\n",
       "    .dataframe thead th {\n",
       "        text-align: right;\n",
       "    }\n",
       "</style>\n",
       "<table border=\"1\" class=\"dataframe\">\n",
       "  <thead>\n",
       "    <tr style=\"text-align: right;\">\n",
       "      <th></th>\n",
       "      <th>date</th>\n",
       "      <th>customer_id</th>\n",
       "      <th>order_id</th>\n",
       "      <th>product</th>\n",
       "      <th>quantity</th>\n",
       "      <th>price</th>\n",
       "      <th>summa</th>\n",
       "    </tr>\n",
       "  </thead>\n",
       "  <tbody>\n",
       "    <tr>\n",
       "      <th>0</th>\n",
       "      <td>2018-10-01</td>\n",
       "      <td>ee47d746-6d2f-4d3c-9622-c31412542920</td>\n",
       "      <td>68477</td>\n",
       "      <td>комнатное растение в горшке алое вера, d12, h30</td>\n",
       "      <td>1</td>\n",
       "      <td>142.0</td>\n",
       "      <td>142.0</td>\n",
       "    </tr>\n",
       "    <tr>\n",
       "      <th>1</th>\n",
       "      <td>2018-10-01</td>\n",
       "      <td>ee47d746-6d2f-4d3c-9622-c31412542920</td>\n",
       "      <td>68477</td>\n",
       "      <td>комнатное растение в горшке кофе арабика, d12, h25</td>\n",
       "      <td>1</td>\n",
       "      <td>194.0</td>\n",
       "      <td>194.0</td>\n",
       "    </tr>\n",
       "    <tr>\n",
       "      <th>2</th>\n",
       "      <td>2018-10-01</td>\n",
       "      <td>ee47d746-6d2f-4d3c-9622-c31412542920</td>\n",
       "      <td>68477</td>\n",
       "      <td>радермахера d-12 см h-20 см</td>\n",
       "      <td>1</td>\n",
       "      <td>112.0</td>\n",
       "      <td>112.0</td>\n",
       "    </tr>\n",
       "  </tbody>\n",
       "</table>\n",
       "</div>"
      ],
      "text/plain": [
       "        date                           customer_id  order_id  \\\n",
       "0 2018-10-01  ee47d746-6d2f-4d3c-9622-c31412542920     68477   \n",
       "1 2018-10-01  ee47d746-6d2f-4d3c-9622-c31412542920     68477   \n",
       "2 2018-10-01  ee47d746-6d2f-4d3c-9622-c31412542920     68477   \n",
       "\n",
       "                                              product  quantity  price  summa  \n",
       "0     комнатное растение в горшке алое вера, d12, h30         1  142.0  142.0  \n",
       "1  комнатное растение в горшке кофе арабика, d12, h25         1  194.0  194.0  \n",
       "2                         радермахера d-12 см h-20 см         1  112.0  112.0  "
      ]
     },
     "metadata": {},
     "output_type": "display_data"
    },
    {
     "name": "stdout",
     "output_type": "stream",
     "text": [
      "<class 'pandas.core.frame.DataFrame'>\n",
      "Int64Index: 4873 entries, 0 to 6735\n",
      "Data columns (total 7 columns):\n",
      " #   Column       Non-Null Count  Dtype         \n",
      "---  ------       --------------  -----         \n",
      " 0   date         4873 non-null   datetime64[ns]\n",
      " 1   customer_id  4873 non-null   object        \n",
      " 2   order_id     4873 non-null   int64         \n",
      " 3   product      4873 non-null   object        \n",
      " 4   quantity     4873 non-null   int64         \n",
      " 5   price        4873 non-null   float64       \n",
      " 6   summa        4873 non-null   float64       \n",
      "dtypes: datetime64[ns](1), float64(2), int64(2), object(2)\n",
      "memory usage: 304.6+ KB\n"
     ]
    }
   ],
   "source": [
    "data['summa'] = data['quantity'] * data['price']\n",
    "del data['duplicat']\n",
    "\n",
    "display(data.head(3))\n",
    "data.info()"
   ]
  },
  {
   "cell_type": "markdown",
   "metadata": {},
   "source": [
    "### Шаг 2. Исследовательский анализ данных<a id='step2'></a>"
   ]
  },
  {
   "cell_type": "markdown",
   "metadata": {},
   "source": [
    "Поделим товары на 2 группы: растения и товары для дома, добавим столбец с пренадлежностью к группе "
   ]
  },
  {
   "cell_type": "code",
   "execution_count": 7,
   "metadata": {},
   "outputs": [
    {
     "data": {
      "text/html": [
       "<div>\n",
       "<style scoped>\n",
       "    .dataframe tbody tr th:only-of-type {\n",
       "        vertical-align: middle;\n",
       "    }\n",
       "\n",
       "    .dataframe tbody tr th {\n",
       "        vertical-align: top;\n",
       "    }\n",
       "\n",
       "    .dataframe thead th {\n",
       "        text-align: right;\n",
       "    }\n",
       "</style>\n",
       "<table border=\"1\" class=\"dataframe\">\n",
       "  <thead>\n",
       "    <tr style=\"text-align: right;\">\n",
       "      <th></th>\n",
       "      <th>date</th>\n",
       "      <th>customer_id</th>\n",
       "      <th>order_id</th>\n",
       "      <th>product</th>\n",
       "      <th>quantity</th>\n",
       "      <th>price</th>\n",
       "      <th>summa</th>\n",
       "      <th>group</th>\n",
       "    </tr>\n",
       "  </thead>\n",
       "  <tbody>\n",
       "    <tr>\n",
       "      <th>0</th>\n",
       "      <td>2018-10-01</td>\n",
       "      <td>ee47d746-6d2f-4d3c-9622-c31412542920</td>\n",
       "      <td>68477</td>\n",
       "      <td>комнатное растение в горшке алое вера, d12, h30</td>\n",
       "      <td>1</td>\n",
       "      <td>142.0</td>\n",
       "      <td>142.0</td>\n",
       "      <td>растения</td>\n",
       "    </tr>\n",
       "    <tr>\n",
       "      <th>1</th>\n",
       "      <td>2018-10-01</td>\n",
       "      <td>ee47d746-6d2f-4d3c-9622-c31412542920</td>\n",
       "      <td>68477</td>\n",
       "      <td>комнатное растение в горшке кофе арабика, d12, h25</td>\n",
       "      <td>1</td>\n",
       "      <td>194.0</td>\n",
       "      <td>194.0</td>\n",
       "      <td>растения</td>\n",
       "    </tr>\n",
       "    <tr>\n",
       "      <th>2</th>\n",
       "      <td>2018-10-01</td>\n",
       "      <td>ee47d746-6d2f-4d3c-9622-c31412542920</td>\n",
       "      <td>68477</td>\n",
       "      <td>радермахера d-12 см h-20 см</td>\n",
       "      <td>1</td>\n",
       "      <td>112.0</td>\n",
       "      <td>112.0</td>\n",
       "      <td>растения</td>\n",
       "    </tr>\n",
       "  </tbody>\n",
       "</table>\n",
       "</div>"
      ],
      "text/plain": [
       "        date                           customer_id  order_id  \\\n",
       "0 2018-10-01  ee47d746-6d2f-4d3c-9622-c31412542920     68477   \n",
       "1 2018-10-01  ee47d746-6d2f-4d3c-9622-c31412542920     68477   \n",
       "2 2018-10-01  ee47d746-6d2f-4d3c-9622-c31412542920     68477   \n",
       "\n",
       "                                              product  quantity  price  summa  \\\n",
       "0     комнатное растение в горшке алое вера, d12, h30         1  142.0  142.0   \n",
       "1  комнатное растение в горшке кофе арабика, d12, h25         1  194.0  194.0   \n",
       "2                         радермахера d-12 см h-20 см         1  112.0  112.0   \n",
       "\n",
       "      group  \n",
       "0  растения  \n",
       "1  растения  \n",
       "2  растения  "
      ]
     },
     "metadata": {},
     "output_type": "display_data"
    },
    {
     "data": {
      "text/plain": [
       "растения           2501\n",
       "товары для дома    2372\n",
       "Name: group, dtype: int64"
      ]
     },
     "execution_count": 7,
     "metadata": {},
     "output_type": "execute_result"
    }
   ],
   "source": [
    "group = []\n",
    "for product in data['product']:\n",
    "    pattern = re.compile('d.[0-9]+ | d[0-9]+ | p.(\\d{1,2}) | d.[0-9] | d..(\\d{1,2}) | (\\d{1,2},)\\d{1,2}.г')\n",
    "    result = pattern.findall(product)\n",
    "    if result != [] and 'муляж' not in product:\n",
    "        g = 'растения'\n",
    "    elif 'черенок' in product:\n",
    "        g = 'растения'\n",
    "    elif 'пеларгон' in product:\n",
    "        g = 'растения'\n",
    "    elif 'настурция' in product:\n",
    "        g = 'растения'    \n",
    "    elif 'диам.' in product:\n",
    "        g = 'растения'\n",
    "    elif 'сорт ' in product:\n",
    "        g = 'растения' \n",
    "    elif 'горш' in product:\n",
    "        g = 'растения'\n",
    "    elif 'крым' in product:\n",
    "        g = 'растения'     \n",
    "    elif 'арбуз' in product:\n",
    "        g = 'растения'\n",
    "    elif 'дыня' in product:\n",
    "        g = 'растения'\n",
    "    elif 'спел' in product:\n",
    "        g = 'растения'\n",
    "    elif 'растение' in product:\n",
    "        g = 'растения'\n",
    "    elif 'рассада' in product:\n",
    "        g = 'растения'\n",
    "    elif 'обыкновен' in product:\n",
    "        g = 'растения'    \n",
    "    elif ' лист' in product:\n",
    "        g = 'растения'    \n",
    "    elif 'объем ' in product:\n",
    "        g = 'растения'\n",
    "    elif 'в кассете' in product:\n",
    "        g = 'растения'    \n",
    "    else:\n",
    "        g = 'товары для дома'   \n",
    "    group.append(g)\n",
    "data['group'] = group\n",
    "display(data.head(3))\n",
    "data['group'].value_counts()\n",
    "#data.to_csv('C:\\\\final project\\\\new_data')"
   ]
  },
  {
   "cell_type": "markdown",
   "metadata": {},
   "source": [
    "Выделим товары из разных группы в 2 разные таблицы:"
   ]
  },
  {
   "cell_type": "code",
   "execution_count": 8,
   "metadata": {},
   "outputs": [],
   "source": [
    "data_r = data.query('group == \"растения\"')\n",
    "data_t = data.query('group == \"товары для дома\"')"
   ]
  },
  {
   "cell_type": "markdown",
   "metadata": {},
   "source": [
    "Посмотрим, данными за какой срок, мы распологаем "
   ]
  },
  {
   "cell_type": "code",
   "execution_count": 9,
   "metadata": {},
   "outputs": [
    {
     "name": "stdout",
     "output_type": "stream",
     "text": [
      "Дата первой покупки 2018-10-01 00:00:00\n",
      "Дата последней покупки 2019-10-31 14:00:00\n"
     ]
    }
   ],
   "source": [
    "print('Дата первой покупки', data['date'].min())\n",
    "print('Дата последней покупки', data['date'].max())"
   ]
  },
  {
   "cell_type": "markdown",
   "metadata": {},
   "source": [
    "Итого у нас есть данные о покупках за полных 13 месяцев"
   ]
  },
  {
   "cell_type": "markdown",
   "metadata": {},
   "source": [
    "Посмотрим на количество продаж по месяцам"
   ]
  },
  {
   "cell_type": "code",
   "execution_count": 10,
   "metadata": {},
   "outputs": [
    {
     "data": {
      "image/png": "[encoded data removed]",
      "text/plain": [
       "<Figure size 864x504 with 1 Axes>"
      ]
     },
     "metadata": {
      "needs_background": "light"
     },
     "output_type": "display_data"
    }
   ],
   "source": [
    "register_matplotlib_converters()\n",
    "data.groupby('group')['date'].hist(figsize=(12,7), bins=13, alpha=0.5)\n",
    "plt.title('Количествово продаж по месяцам', fontsize = 15)\n",
    "plt.legend(['Растения', 'Товары для дома'], fontsize = 12)\n",
    "plt.show();"
   ]
  },
  {
   "cell_type": "markdown",
   "metadata": {},
   "source": [
    "Из графика можно сделать следующие выводы:\n",
    "- товары для дома покупали чуть активнее в конце 2018 года, в 2019 году спрос немного упал, но держался достаточно равномерным на протяжении всего 2019 года;\n",
    "- спрос на живые растения начинает увеличиваться с февраля 2019 и растет до пика в июне месяце, после чего идет резкое падение продаж. Последние 3 месяца анализируемого периода спрос на живые растения остается стабильно низким."
   ]
  },
  {
   "cell_type": "code",
   "execution_count": 11,
   "metadata": {},
   "outputs": [
    {
     "name": "stdout",
     "output_type": "stream",
     "text": [
      "Минимальная цена еденицы товара 9.0\n",
      "Максимальная цена еденицы товара 14917.0\n"
     ]
    }
   ],
   "source": [
    "print('Минимальная цена еденицы товара', data['price'].min())\n",
    "print('Максимальная цена еденицы товара', data['price'].max())"
   ]
  },
  {
   "cell_type": "code",
   "execution_count": 12,
   "metadata": {
    "scrolled": false
   },
   "outputs": [
    {
     "data": {
      "image/png": "[encoded data removed]",
      "text/plain": [
       "<Figure size 864x504 with 1 Axes>"
      ]
     },
     "metadata": {
      "needs_background": "light"
     },
     "output_type": "display_data"
    }
   ],
   "source": [
    "data.groupby('group')['price'].hist(figsize=(12,7), bins=80, range=(1,4000), alpha=0.6)\n",
    "plt.title('Количествово продаж товаров разной стоимости', fontsize = 15)\n",
    "plt.legend(['Растения', 'Товары для дома'], fontsize = 12)\n",
    "plt.show();"
   ]
  },
  {
   "cell_type": "markdown",
   "metadata": {},
   "source": [
    "<br>Из гистограммы видно, что почти все товары в категории \"растения\" продавались по цене до 250 рублей. При этом большинство из них продавалось по цене 100 - 150 рублей.\n",
    "\n",
    "<br>Товары в из категории \"товары для дома\" более разнообразны, и количество проданных товаров постепенно уменьшается в след за увеличением цены."
   ]
  },
  {
   "cell_type": "markdown",
   "metadata": {},
   "source": [
    "Составим таблицу с количеством товаров в заказе и стоимостью чека:"
   ]
  },
  {
   "cell_type": "code",
   "execution_count": 13,
   "metadata": {},
   "outputs": [
    {
     "data": {
      "text/html": [
       "<div>\n",
       "<style scoped>\n",
       "    .dataframe tbody tr th:only-of-type {\n",
       "        vertical-align: middle;\n",
       "    }\n",
       "\n",
       "    .dataframe tbody tr th {\n",
       "        vertical-align: top;\n",
       "    }\n",
       "\n",
       "    .dataframe thead th {\n",
       "        text-align: right;\n",
       "    }\n",
       "</style>\n",
       "<table border=\"1\" class=\"dataframe\">\n",
       "  <thead>\n",
       "    <tr style=\"text-align: right;\">\n",
       "      <th></th>\n",
       "      <th>summa</th>\n",
       "      <th>quantity</th>\n",
       "    </tr>\n",
       "    <tr>\n",
       "      <th>order_id</th>\n",
       "      <th></th>\n",
       "      <th></th>\n",
       "    </tr>\n",
       "  </thead>\n",
       "  <tbody>\n",
       "    <tr>\n",
       "      <th>12624</th>\n",
       "      <td>375.0</td>\n",
       "      <td>2</td>\n",
       "    </tr>\n",
       "    <tr>\n",
       "      <th>13547</th>\n",
       "      <td>684.0</td>\n",
       "      <td>3</td>\n",
       "    </tr>\n",
       "    <tr>\n",
       "      <th>14480</th>\n",
       "      <td>359.0</td>\n",
       "      <td>3</td>\n",
       "    </tr>\n",
       "  </tbody>\n",
       "</table>\n",
       "</div>"
      ],
      "text/plain": [
       "          summa  quantity\n",
       "order_id                 \n",
       "12624     375.0         2\n",
       "13547     684.0         3\n",
       "14480     359.0         3"
      ]
     },
     "metadata": {},
     "output_type": "display_data"
    },
    {
     "data": {
      "text/plain": [
       "(2784, 2)"
      ]
     },
     "execution_count": 13,
     "metadata": {},
     "output_type": "execute_result"
    }
   ],
   "source": [
    "orders = pd.DataFrame(data.groupby(['order_id']).agg({'summa': 'sum', 'quantity': 'sum'}))\n",
    "display(orders.head(3))\n",
    "orders.shape"
   ]
  },
  {
   "cell_type": "markdown",
   "metadata": {},
   "source": [
    "Составим такие же таблицы для товаров из разных групп:\n",
    "- для растений"
   ]
  },
  {
   "cell_type": "code",
   "execution_count": 14,
   "metadata": {},
   "outputs": [
    {
     "data": {
      "text/html": [
       "<div>\n",
       "<style scoped>\n",
       "    .dataframe tbody tr th:only-of-type {\n",
       "        vertical-align: middle;\n",
       "    }\n",
       "\n",
       "    .dataframe tbody tr th {\n",
       "        vertical-align: top;\n",
       "    }\n",
       "\n",
       "    .dataframe thead th {\n",
       "        text-align: right;\n",
       "    }\n",
       "</style>\n",
       "<table border=\"1\" class=\"dataframe\">\n",
       "  <thead>\n",
       "    <tr style=\"text-align: right;\">\n",
       "      <th></th>\n",
       "      <th>summa</th>\n",
       "      <th>quantity</th>\n",
       "    </tr>\n",
       "    <tr>\n",
       "      <th>order_id</th>\n",
       "      <th></th>\n",
       "      <th></th>\n",
       "    </tr>\n",
       "  </thead>\n",
       "  <tbody>\n",
       "    <tr>\n",
       "      <th>12624</th>\n",
       "      <td>375.0</td>\n",
       "      <td>2</td>\n",
       "    </tr>\n",
       "    <tr>\n",
       "      <th>13547</th>\n",
       "      <td>684.0</td>\n",
       "      <td>3</td>\n",
       "    </tr>\n",
       "    <tr>\n",
       "      <th>14480</th>\n",
       "      <td>359.0</td>\n",
       "      <td>3</td>\n",
       "    </tr>\n",
       "  </tbody>\n",
       "</table>\n",
       "</div>"
      ],
      "text/plain": [
       "          summa  quantity\n",
       "order_id                 \n",
       "12624     375.0         2\n",
       "13547     684.0         3\n",
       "14480     359.0         3"
      ]
     },
     "metadata": {},
     "output_type": "display_data"
    },
    {
     "data": {
      "text/plain": [
       "(769, 2)"
      ]
     },
     "execution_count": 14,
     "metadata": {},
     "output_type": "execute_result"
    }
   ],
   "source": [
    "orders_r = pd.DataFrame(data_r.groupby(['order_id']).agg({'summa': 'sum', 'quantity': 'sum'}))\n",
    "display(orders_r.head(3))\n",
    "orders_r.shape"
   ]
  },
  {
   "cell_type": "markdown",
   "metadata": {},
   "source": [
    "- для товаров для дома"
   ]
  },
  {
   "cell_type": "code",
   "execution_count": 15,
   "metadata": {},
   "outputs": [
    {
     "data": {
      "text/html": [
       "<div>\n",
       "<style scoped>\n",
       "    .dataframe tbody tr th:only-of-type {\n",
       "        vertical-align: middle;\n",
       "    }\n",
       "\n",
       "    .dataframe tbody tr th {\n",
       "        vertical-align: top;\n",
       "    }\n",
       "\n",
       "    .dataframe thead th {\n",
       "        text-align: right;\n",
       "    }\n",
       "</style>\n",
       "<table border=\"1\" class=\"dataframe\">\n",
       "  <thead>\n",
       "    <tr style=\"text-align: right;\">\n",
       "      <th></th>\n",
       "      <th>summa</th>\n",
       "      <th>quantity</th>\n",
       "    </tr>\n",
       "    <tr>\n",
       "      <th>order_id</th>\n",
       "      <th></th>\n",
       "      <th></th>\n",
       "    </tr>\n",
       "  </thead>\n",
       "  <tbody>\n",
       "    <tr>\n",
       "      <th>14512</th>\n",
       "      <td>47.0</td>\n",
       "      <td>2</td>\n",
       "    </tr>\n",
       "    <tr>\n",
       "      <th>14595</th>\n",
       "      <td>379.0</td>\n",
       "      <td>18</td>\n",
       "    </tr>\n",
       "    <tr>\n",
       "      <th>14597</th>\n",
       "      <td>89.0</td>\n",
       "      <td>1</td>\n",
       "    </tr>\n",
       "  </tbody>\n",
       "</table>\n",
       "</div>"
      ],
      "text/plain": [
       "          summa  quantity\n",
       "order_id                 \n",
       "14512      47.0         2\n",
       "14595     379.0        18\n",
       "14597      89.0         1"
      ]
     },
     "metadata": {},
     "output_type": "display_data"
    },
    {
     "data": {
      "text/plain": [
       "(2034, 2)"
      ]
     },
     "execution_count": 15,
     "metadata": {},
     "output_type": "execute_result"
    }
   ],
   "source": [
    "orders_t = pd.DataFrame(data_t.groupby('order_id').agg({'summa': 'sum', 'quantity': 'sum'}))\n",
    "display(orders_t.head(3))\n",
    "orders_t.shape"
   ]
  },
  {
   "cell_type": "markdown",
   "metadata": {},
   "source": [
    "По количеству заказов видно, что пользователи крайне редко заказывают товары из разных групп в одном заказе."
   ]
  },
  {
   "cell_type": "code",
   "execution_count": 16,
   "metadata": {},
   "outputs": [
    {
     "data": {
      "image/png": "[encoded data removed]",
      "text/plain": [
       "<Figure size 864x504 with 1 Axes>"
      ]
     },
     "metadata": {
      "needs_background": "light"
     },
     "output_type": "display_data"
    }
   ],
   "source": [
    "orders_r['quantity'].hist(figsize=(12,7), bins=30, range=(1,30), alpha=0.5)\n",
    "orders_t['quantity'].hist(figsize=(12,7), bins=30, range=(1,30), alpha=0.5)\n",
    "plt.title('Штук ед. товаров в одном заказе', fontsize = 15)\n",
    "plt.legend(['Растения', 'Товары для дома'], fontsize = 12)\n",
    "plt.show();"
   ]
  },
  {
   "cell_type": "markdown",
   "metadata": {},
   "source": [
    "Видим, что вподавляющем большинстве заказов присутствует лишь один товар, особенно ярко это выражено в группе товаров для дома."
   ]
  },
  {
   "cell_type": "code",
   "execution_count": 17,
   "metadata": {},
   "outputs": [
    {
     "data": {
      "image/png": "[encoded data removed]",
      "text/plain": [
       "<Figure size 864x504 with 1 Axes>"
      ]
     },
     "metadata": {
      "needs_background": "light"
     },
     "output_type": "display_data"
    }
   ],
   "source": [
    "orders_r['summa'].hist(figsize=(12,7), range=(1,10000), bins=100, alpha=0.5)\n",
    "orders_t['summa'].hist(figsize=(12,7), range=(1,10000), bins=100, alpha=0.5)\n",
    "plt.title('Стоимость заказа', fontsize = 15)\n",
    "plt.legend(['Растения', 'Товары для дома'], fontsize = 12)\n",
    "plt.show();"
   ]
  },
  {
   "cell_type": "markdown",
   "metadata": {},
   "source": [
    "Видим, что в целом товаров для дома продается больше, но распределение стоимости заказов различается в обоих группах не сильно: чем дороже заказ, тем реже он случается."
   ]
  },
  {
   "cell_type": "markdown",
   "metadata": {},
   "source": [
    "### Шаг 3. Сегментация пользователей на основе истории их покупок:<a id='step3'></a>"
   ]
  },
  {
   "cell_type": "markdown",
   "metadata": {},
   "source": [
    "##### Сегментацияна основе купленных товаров"
   ]
  },
  {
   "cell_type": "markdown",
   "metadata": {},
   "source": [
    "Посмотрим на данные в разрезе пользователей"
   ]
  },
  {
   "cell_type": "code",
   "execution_count": 18,
   "metadata": {},
   "outputs": [
    {
     "data": {
      "text/html": [
       "<div>\n",
       "<style scoped>\n",
       "    .dataframe tbody tr th:only-of-type {\n",
       "        vertical-align: middle;\n",
       "    }\n",
       "\n",
       "    .dataframe tbody tr th {\n",
       "        vertical-align: top;\n",
       "    }\n",
       "\n",
       "    .dataframe thead th {\n",
       "        text-align: right;\n",
       "    }\n",
       "</style>\n",
       "<table border=\"1\" class=\"dataframe\">\n",
       "  <thead>\n",
       "    <tr style=\"text-align: right;\">\n",
       "      <th></th>\n",
       "      <th>summa</th>\n",
       "      <th>quantity</th>\n",
       "      <th>order_id</th>\n",
       "    </tr>\n",
       "    <tr>\n",
       "      <th>customer_id</th>\n",
       "      <th></th>\n",
       "      <th></th>\n",
       "      <th></th>\n",
       "    </tr>\n",
       "  </thead>\n",
       "  <tbody>\n",
       "    <tr>\n",
       "      <th>c971fb21-d54c-4134-938f-16b62ee86d3b</th>\n",
       "      <td>159508.0</td>\n",
       "      <td>334</td>\n",
       "      <td>143</td>\n",
       "    </tr>\n",
       "    <tr>\n",
       "      <th>d3b9ffea-d143-4747-8d59-74ab843d1ad6</th>\n",
       "      <td>2922.0</td>\n",
       "      <td>51</td>\n",
       "      <td>51</td>\n",
       "    </tr>\n",
       "    <tr>\n",
       "      <th>4d93d3f6-8b24-403b-a74b-f5173e40d7db</th>\n",
       "      <td>57278.0</td>\n",
       "      <td>309</td>\n",
       "      <td>45</td>\n",
       "    </tr>\n",
       "  </tbody>\n",
       "</table>\n",
       "</div>"
      ],
      "text/plain": [
       "                                         summa  quantity  order_id\n",
       "customer_id                                                       \n",
       "c971fb21-d54c-4134-938f-16b62ee86d3b  159508.0       334       143\n",
       "d3b9ffea-d143-4747-8d59-74ab843d1ad6    2922.0        51        51\n",
       "4d93d3f6-8b24-403b-a74b-f5173e40d7db   57278.0       309        45"
      ]
     },
     "metadata": {},
     "output_type": "display_data"
    },
    {
     "data": {
      "text/plain": [
       "(2451, 3)"
      ]
     },
     "execution_count": 18,
     "metadata": {},
     "output_type": "execute_result"
    }
   ],
   "source": [
    "customers = pd.DataFrame(data.groupby(['customer_id']).agg({'summa': 'sum', 'quantity': 'sum', 'order_id': 'count'}))\n",
    "display(customers.sort_values('order_id', ascending=False).head(3))\n",
    "customers.shape"
   ]
  },
  {
   "cell_type": "markdown",
   "metadata": {},
   "source": [
    "Для клиентов, покупающих растения"
   ]
  },
  {
   "cell_type": "code",
   "execution_count": 19,
   "metadata": {},
   "outputs": [
    {
     "data": {
      "text/html": [
       "<div>\n",
       "<style scoped>\n",
       "    .dataframe tbody tr th:only-of-type {\n",
       "        vertical-align: middle;\n",
       "    }\n",
       "\n",
       "    .dataframe tbody tr th {\n",
       "        vertical-align: top;\n",
       "    }\n",
       "\n",
       "    .dataframe thead th {\n",
       "        text-align: right;\n",
       "    }\n",
       "</style>\n",
       "<table border=\"1\" class=\"dataframe\">\n",
       "  <thead>\n",
       "    <tr style=\"text-align: right;\">\n",
       "      <th></th>\n",
       "      <th>summa</th>\n",
       "      <th>quantity</th>\n",
       "      <th>order_id</th>\n",
       "    </tr>\n",
       "    <tr>\n",
       "      <th>customer_id</th>\n",
       "      <th></th>\n",
       "      <th></th>\n",
       "      <th></th>\n",
       "    </tr>\n",
       "  </thead>\n",
       "  <tbody>\n",
       "    <tr>\n",
       "      <th>d3b9ffea-d143-4747-8d59-74ab843d1ad6</th>\n",
       "      <td>2922.0</td>\n",
       "      <td>51</td>\n",
       "      <td>51</td>\n",
       "    </tr>\n",
       "    <tr>\n",
       "      <th>760aa067-90c3-4794-b7a9-a8831197388b</th>\n",
       "      <td>4558.0</td>\n",
       "      <td>37</td>\n",
       "      <td>36</td>\n",
       "    </tr>\n",
       "    <tr>\n",
       "      <th>2a0acc09-e343-4f92-b5c0-f598ef2b07d4</th>\n",
       "      <td>2280.0</td>\n",
       "      <td>60</td>\n",
       "      <td>31</td>\n",
       "    </tr>\n",
       "  </tbody>\n",
       "</table>\n",
       "</div>"
      ],
      "text/plain": [
       "                                       summa  quantity  order_id\n",
       "customer_id                                                     \n",
       "d3b9ffea-d143-4747-8d59-74ab843d1ad6  2922.0        51        51\n",
       "760aa067-90c3-4794-b7a9-a8831197388b  4558.0        37        36\n",
       "2a0acc09-e343-4f92-b5c0-f598ef2b07d4  2280.0        60        31"
      ]
     },
     "metadata": {},
     "output_type": "display_data"
    },
    {
     "data": {
      "text/plain": [
       "(674, 3)"
      ]
     },
     "execution_count": 19,
     "metadata": {},
     "output_type": "execute_result"
    }
   ],
   "source": [
    "customers_r = pd.DataFrame(data_r.groupby(['customer_id']).agg({'summa': 'sum', 'quantity': 'sum', 'order_id': 'count'}))\n",
    "display(customers_r.sort_values('order_id', ascending=False).head(3))\n",
    "customers_r.shape"
   ]
  },
  {
   "cell_type": "markdown",
   "metadata": {},
   "source": [
    "Для клиентов, покупающих товары для дома"
   ]
  },
  {
   "cell_type": "code",
   "execution_count": 20,
   "metadata": {},
   "outputs": [
    {
     "data": {
      "text/html": [
       "<div>\n",
       "<style scoped>\n",
       "    .dataframe tbody tr th:only-of-type {\n",
       "        vertical-align: middle;\n",
       "    }\n",
       "\n",
       "    .dataframe tbody tr th {\n",
       "        vertical-align: top;\n",
       "    }\n",
       "\n",
       "    .dataframe thead th {\n",
       "        text-align: right;\n",
       "    }\n",
       "</style>\n",
       "<table border=\"1\" class=\"dataframe\">\n",
       "  <thead>\n",
       "    <tr style=\"text-align: right;\">\n",
       "      <th></th>\n",
       "      <th>summa</th>\n",
       "      <th>quantity</th>\n",
       "      <th>order_id</th>\n",
       "    </tr>\n",
       "    <tr>\n",
       "      <th>customer_id</th>\n",
       "      <th></th>\n",
       "      <th></th>\n",
       "      <th></th>\n",
       "    </tr>\n",
       "  </thead>\n",
       "  <tbody>\n",
       "    <tr>\n",
       "      <th>c971fb21-d54c-4134-938f-16b62ee86d3b</th>\n",
       "      <td>145834.0</td>\n",
       "      <td>295</td>\n",
       "      <td>113</td>\n",
       "    </tr>\n",
       "    <tr>\n",
       "      <th>4d93d3f6-8b24-403b-a74b-f5173e40d7db</th>\n",
       "      <td>55492.0</td>\n",
       "      <td>296</td>\n",
       "      <td>42</td>\n",
       "    </tr>\n",
       "    <tr>\n",
       "      <th>9f1e7d7d-ff10-4eb1-b596-1cbf8075aa3f</th>\n",
       "      <td>22056.0</td>\n",
       "      <td>47</td>\n",
       "      <td>21</td>\n",
       "    </tr>\n",
       "  </tbody>\n",
       "</table>\n",
       "</div>"
      ],
      "text/plain": [
       "                                         summa  quantity  order_id\n",
       "customer_id                                                       \n",
       "c971fb21-d54c-4134-938f-16b62ee86d3b  145834.0       295       113\n",
       "4d93d3f6-8b24-403b-a74b-f5173e40d7db   55492.0       296        42\n",
       "9f1e7d7d-ff10-4eb1-b596-1cbf8075aa3f   22056.0        47        21"
      ]
     },
     "metadata": {},
     "output_type": "display_data"
    },
    {
     "data": {
      "text/plain": [
       "(1805, 3)"
      ]
     },
     "execution_count": 20,
     "metadata": {},
     "output_type": "execute_result"
    }
   ],
   "source": [
    "customers_t = pd.DataFrame(data_t.groupby(['customer_id']).agg({'summa': 'sum', 'quantity': 'sum', 'order_id': 'count'}))\n",
    "display(customers_t.sort_values('order_id', ascending=False).head(3))\n",
    "customers_t.shape"
   ]
  },
  {
   "cell_type": "markdown",
   "metadata": {},
   "source": [
    "###### Посмотрим, есть ли покупатели, совершавшие покупки в обоих категориях и выделим их в отдельную группу"
   ]
  },
  {
   "cell_type": "markdown",
   "metadata": {},
   "source": [
    "Возьмем данные о пользователях, которые состоят в обеих группах и объеденим в отдельную таблицу. Удалим данные из групп, где пользователи совершали только покупки из определенной группы товаров."
   ]
  },
  {
   "cell_type": "code",
   "execution_count": 21,
   "metadata": {},
   "outputs": [],
   "source": [
    "dup_customers_r = customers_r.loc[customers_r.index.isin(customers_t.index)]\n",
    "dup_customers_t = customers_t.loc[customers_t.index.isin(customers_r.index)]\n",
    "customers_r = customers_r.loc[~customers_r.index.isin(customers_t.index)]\n",
    "customers_t = customers_t.loc[~customers_t.index.isin(customers_r.index)]\n",
    "dup_customers = dup_customers_r.merge(dup_customers_t, left_index=True, right_index=True)"
   ]
  },
  {
   "cell_type": "markdown",
   "metadata": {},
   "source": [
    "Объеденим дублирующиеся поля и не нужные данные удалим."
   ]
  },
  {
   "cell_type": "code",
   "execution_count": 22,
   "metadata": {},
   "outputs": [
    {
     "data": {
      "text/plain": [
       "28"
      ]
     },
     "metadata": {},
     "output_type": "display_data"
    }
   ],
   "source": [
    "\n",
    "dup_customers['summa'] = dup_customers['summa_x'] + dup_customers['summa_y']\n",
    "dup_customers['quantity'] = dup_customers['quantity_x'] + dup_customers['quantity_y']\n",
    "dup_customers['order_id'] = dup_customers['order_id_x'] + dup_customers['order_id_y']\n",
    "\n",
    "dup_customers.drop(['summa_x', 'summa_y', 'quantity_x', 'quantity_y', 'order_id_x', 'order_id_y'], axis=1, inplace=True)\n",
    "display(len(dup_customers))"
   ]
  },
  {
   "cell_type": "markdown",
   "metadata": {},
   "source": [
    "Видим, что у нас есть, только 28 пользователей, делавших покупки из разных категорий, это около 1% от всех пользователей, так что, можно считать, что все пользователи поделены на 2 группы: покующие товары из категории \"растения\" и \"товары для дома\""
   ]
  },
  {
   "cell_type": "code",
   "execution_count": 23,
   "metadata": {},
   "outputs": [
    {
     "data": {
      "image/png": "[encoded data removed]",
      "text/plain": [
       "<Figure size 864x504 with 1 Axes>"
      ]
     },
     "metadata": {
      "needs_background": "light"
     },
     "output_type": "display_data"
    }
   ],
   "source": [
    "customers_r['order_id'].hist(figsize=(12,7), bins=20, range=(1,20), alpha=0.5)\n",
    "customers_t['order_id'].hist(figsize=(12,7), bins=20, range=(1,20), alpha=0.5)\n",
    "plt.title('Количество заказов, сделанных пользователем', fontsize = 15)\n",
    "plt.legend(['Растения', 'Товары для дома'], fontsize = 12)\n",
    "plt.show();"
   ]
  },
  {
   "cell_type": "markdown",
   "metadata": {},
   "source": [
    "Абсолютное большинство пользователей, совершило только 1 заказ за последние 13 месяцев. Небольшая часть пользователей совершила от 2 до 9 заказов. Больше 9 заказов за отчетный период совершили еденицы пользователей."
   ]
  },
  {
   "cell_type": "code",
   "execution_count": 24,
   "metadata": {},
   "outputs": [
    {
     "data": {
      "image/png": "[encoded data removed]",
      "text/plain": [
       "<Figure size 864x504 with 1 Axes>"
      ]
     },
     "metadata": {
      "needs_background": "light"
     },
     "output_type": "display_data"
    }
   ],
   "source": [
    "customers_r['summa'].hist(figsize=(12,7), bins=100, range=(1,10000), alpha=0.5)\n",
    "customers_t['summa'].hist(figsize=(12,7), bins=100, range=(1,10000), alpha=0.5)\n",
    "plt.title('Количество денег, потраченных пользователем', fontsize = 15)\n",
    "plt.legend(['Растения', 'Товары для дома'], fontsize = 12)\n",
    "plt.show();"
   ]
  },
  {
   "cell_type": "markdown",
   "metadata": {},
   "source": [
    "Эта гистограмма очень напоминает гистограмму стоимости заказов, т.к. большинство пользователей совершили только по одному заказу, соответственно сумма потраченных ими денег равна стоимости заказа.  "
   ]
  },
  {
   "cell_type": "markdown",
   "metadata": {},
   "source": [
    "##### Сегментация пользователей на основе даты первой покупки:"
   ]
  },
  {
   "cell_type": "code",
   "execution_count": 25,
   "metadata": {},
   "outputs": [],
   "source": [
    "\n",
    "first_activity_date = data.groupby('customer_id')['date'].min()\n",
    "first_activity_date.name = 'first_activity_date'\n",
    "data = data.merge(first_activity_date, on='customer_id', how='left')\n"
   ]
  },
  {
   "cell_type": "code",
   "execution_count": 26,
   "metadata": {},
   "outputs": [
    {
     "name": "stdout",
     "output_type": "stream",
     "text": [
      "<class 'pandas.core.frame.DataFrame'>\n",
      "Int64Index: 4873 entries, 0 to 4872\n",
      "Data columns (total 11 columns):\n",
      " #   Column               Non-Null Count  Dtype         \n",
      "---  ------               --------------  -----         \n",
      " 0   date                 4873 non-null   datetime64[ns]\n",
      " 1   customer_id          4873 non-null   object        \n",
      " 2   order_id             4873 non-null   int64         \n",
      " 3   product              4873 non-null   object        \n",
      " 4   quantity             4873 non-null   int64         \n",
      " 5   price                4873 non-null   float64       \n",
      " 6   summa                4873 non-null   float64       \n",
      " 7   group                4873 non-null   object        \n",
      " 8   first_activity_date  4873 non-null   datetime64[ns]\n",
      " 9   first_order_month    4873 non-null   datetime64[ns]\n",
      " 10  order_month          4873 non-null   datetime64[ns]\n",
      "dtypes: datetime64[ns](4), float64(2), int64(2), object(3)\n",
      "memory usage: 456.8+ KB\n"
     ]
    }
   ],
   "source": [
    "data['first_order_month'] = data['first_activity_date'].astype('datetime64[M]')\n",
    "data['order_month'] = data['date'].astype('datetime64[M]')\n",
    "data.info()"
   ]
  },
  {
   "cell_type": "markdown",
   "metadata": {},
   "source": [
    "Посчитаем количество покупателей в каждой кагорте:"
   ]
  },
  {
   "cell_type": "code",
   "execution_count": 27,
   "metadata": {},
   "outputs": [],
   "source": [
    "cohort_sizes = data.groupby('first_order_month').agg({'customer_id': 'nunique'}).reset_index()\n",
    "cohort_sizes.columns = ['first_order_month', 'n_buyers']"
   ]
  },
  {
   "cell_type": "markdown",
   "metadata": {},
   "source": [
    "Сгруппируем таблицу заказов по месяцу первой покупки и месяцу каждого заказа, посчитаем выручку с каждой кагорты в каждый месяц и добавим общее число участников кагорты."
   ]
  },
  {
   "cell_type": "code",
   "execution_count": 28,
   "metadata": {},
   "outputs": [
    {
     "data": {
      "text/html": [
       "<div>\n",
       "<style scoped>\n",
       "    .dataframe tbody tr th:only-of-type {\n",
       "        vertical-align: middle;\n",
       "    }\n",
       "\n",
       "    .dataframe tbody tr th {\n",
       "        vertical-align: top;\n",
       "    }\n",
       "\n",
       "    .dataframe thead th {\n",
       "        text-align: right;\n",
       "    }\n",
       "</style>\n",
       "<table border=\"1\" class=\"dataframe\">\n",
       "  <thead>\n",
       "    <tr style=\"text-align: right;\">\n",
       "      <th></th>\n",
       "      <th>first_order_month</th>\n",
       "      <th>order_month</th>\n",
       "      <th>summa</th>\n",
       "      <th>n_buyers</th>\n",
       "    </tr>\n",
       "  </thead>\n",
       "  <tbody>\n",
       "    <tr>\n",
       "      <th>0</th>\n",
       "      <td>2018-10-01</td>\n",
       "      <td>2018-10-01</td>\n",
       "      <td>351910.0</td>\n",
       "      <td>181</td>\n",
       "    </tr>\n",
       "    <tr>\n",
       "      <th>1</th>\n",
       "      <td>2018-10-01</td>\n",
       "      <td>2018-11-01</td>\n",
       "      <td>24981.0</td>\n",
       "      <td>181</td>\n",
       "    </tr>\n",
       "    <tr>\n",
       "      <th>2</th>\n",
       "      <td>2018-10-01</td>\n",
       "      <td>2018-12-01</td>\n",
       "      <td>43993.0</td>\n",
       "      <td>181</td>\n",
       "    </tr>\n",
       "  </tbody>\n",
       "</table>\n",
       "</div>"
      ],
      "text/plain": [
       "  first_order_month order_month     summa  n_buyers\n",
       "0        2018-10-01  2018-10-01  351910.0       181\n",
       "1        2018-10-01  2018-11-01   24981.0       181\n",
       "2        2018-10-01  2018-12-01   43993.0       181"
      ]
     },
     "metadata": {},
     "output_type": "display_data"
    }
   ],
   "source": [
    "cohorts = data.groupby(['first_order_month','order_month']).agg({'summa': 'sum'}).reset_index()\n",
    "cohorts = cohorts.merge(cohort_sizes, on='first_order_month')\n",
    "display(cohorts.head(3)) "
   ]
  },
  {
   "cell_type": "markdown",
   "metadata": {},
   "source": [
    "Для расчета показателя LTV нужно знать валовую прибыль. К сожалению, у нас нет данных о маржинальности, так что будем считать не совсем LTV, а значения, показывающие, сколько выручки принесли покупатели каждой кагорты. "
   ]
  },
  {
   "cell_type": "markdown",
   "metadata": {},
   "source": [
    "Расчитаем возраст каждой кагорты для каждого месяца:"
   ]
  },
  {
   "cell_type": "code",
   "execution_count": 29,
   "metadata": {},
   "outputs": [
    {
     "data": {
      "text/html": [
       "<div>\n",
       "<style scoped>\n",
       "    .dataframe tbody tr th:only-of-type {\n",
       "        vertical-align: middle;\n",
       "    }\n",
       "\n",
       "    .dataframe tbody tr th {\n",
       "        vertical-align: top;\n",
       "    }\n",
       "\n",
       "    .dataframe thead th {\n",
       "        text-align: right;\n",
       "    }\n",
       "</style>\n",
       "<table border=\"1\" class=\"dataframe\">\n",
       "  <thead>\n",
       "    <tr style=\"text-align: right;\">\n",
       "      <th></th>\n",
       "      <th>first_order_month</th>\n",
       "      <th>order_month</th>\n",
       "      <th>summa</th>\n",
       "      <th>n_buyers</th>\n",
       "      <th>age</th>\n",
       "    </tr>\n",
       "  </thead>\n",
       "  <tbody>\n",
       "    <tr>\n",
       "      <th>0</th>\n",
       "      <td>2018-10</td>\n",
       "      <td>2018-10-01</td>\n",
       "      <td>351910.0</td>\n",
       "      <td>181</td>\n",
       "      <td>0</td>\n",
       "    </tr>\n",
       "    <tr>\n",
       "      <th>1</th>\n",
       "      <td>2018-10</td>\n",
       "      <td>2018-11-01</td>\n",
       "      <td>24981.0</td>\n",
       "      <td>181</td>\n",
       "      <td>1</td>\n",
       "    </tr>\n",
       "    <tr>\n",
       "      <th>2</th>\n",
       "      <td>2018-10</td>\n",
       "      <td>2018-12-01</td>\n",
       "      <td>43993.0</td>\n",
       "      <td>181</td>\n",
       "      <td>2</td>\n",
       "    </tr>\n",
       "    <tr>\n",
       "      <th>3</th>\n",
       "      <td>2018-10</td>\n",
       "      <td>2019-01-01</td>\n",
       "      <td>9449.0</td>\n",
       "      <td>181</td>\n",
       "      <td>3</td>\n",
       "    </tr>\n",
       "    <tr>\n",
       "      <th>4</th>\n",
       "      <td>2018-10</td>\n",
       "      <td>2019-02-01</td>\n",
       "      <td>44806.0</td>\n",
       "      <td>181</td>\n",
       "      <td>4</td>\n",
       "    </tr>\n",
       "  </tbody>\n",
       "</table>\n",
       "</div>"
      ],
      "text/plain": [
       "  first_order_month order_month     summa  n_buyers  age\n",
       "0           2018-10  2018-10-01  351910.0       181    0\n",
       "1           2018-10  2018-11-01   24981.0       181    1\n",
       "2           2018-10  2018-12-01   43993.0       181    2\n",
       "3           2018-10  2019-01-01    9449.0       181    3\n",
       "4           2018-10  2019-02-01   44806.0       181    4"
      ]
     },
     "metadata": {},
     "output_type": "display_data"
    }
   ],
   "source": [
    "cohorts['age'] = (cohorts['order_month'] - cohorts['first_order_month']) / np.timedelta64(1, 'M')\n",
    "cohorts['first_order_month'] = cohorts['first_order_month'].dt.strftime('%Y-%m')\n",
    "cohorts['age'] = cohorts['age'].round().astype('int')\n",
    "display(cohorts.head()) "
   ]
  },
  {
   "cell_type": "markdown",
   "metadata": {},
   "source": [
    "И так, посмотри сколько выручки принёс один покупатель из каждой кагорты:"
   ]
  },
  {
   "cell_type": "code",
   "execution_count": 30,
   "metadata": {
    "scrolled": false
   },
   "outputs": [
    {
     "data": {
      "image/png": "[encoded data removed]",
      "text/plain": [
       "<Figure size 1080x504 with 2 Axes>"
      ]
     },
     "metadata": {
      "needs_background": "light"
     },
     "output_type": "display_data"
    }
   ],
   "source": [
    "cohorts['revenue'] = cohorts['summa'] / cohorts['n_buyers'] \n",
    "LTV = cohorts.pivot_table(\n",
    "        index='first_order_month', \n",
    "        columns='age', \n",
    "        values='revenue', \n",
    "        aggfunc='mean').cumsum(axis=1).round(2)   \n",
    "LTV.fillna('') \n",
    "plt.figure(figsize=(15, 7))\n",
    "plt.title('Средняя выручка с покупателя из кагорты', fontsize=15)\n",
    "sns.heatmap(LTV, annot=True, fmt='.1f', linewidths=1, vmin=1000, vmax=3000, linecolor='gray');"
   ]
  },
  {
   "cell_type": "markdown",
   "metadata": {},
   "source": [
    "Кагортный анализ показал, что главная проблема нашего магазина - возврат клиентов. Тольки покупатели из первой кагорты приносили выручку первые пол года после совершения покупки. Клиенты из остальных кагорт совершали покупки в первый месяц (чаще всего только 1 заказ) и больше не приносили никакой выручки."
   ]
  },
  {
   "cell_type": "markdown",
   "metadata": {},
   "source": [
    "### Шаг 4. Проверка гипотез<a id='step4'></a>"
   ]
  },
  {
   "cell_type": "markdown",
   "metadata": {},
   "source": [
    "##### Сравним средний чек в заказах из разных групп товаров"
   ]
  },
  {
   "cell_type": "markdown",
   "metadata": {},
   "source": [
    "Выдвенем нулевую гипотезу о равенстве чеков групп, \"растения\" и \"товары для дома\" и проверим её:"
   ]
  },
  {
   "cell_type": "code",
   "execution_count": 31,
   "metadata": {},
   "outputs": [
    {
     "name": "stdout",
     "output_type": "stream",
     "text": [
      "p-значение: 0.8694957803728596\n",
      "Не получилось отвергнуть нулевую гипотезу\n"
     ]
    }
   ],
   "source": [
    "def ttest(x, y):\n",
    "    alpha = .05 \n",
    "    results = st.ttest_ind(\n",
    "        x, \n",
    "        y, equal_var = False)\n",
    "\n",
    "    print('p-значение:', results.pvalue)\n",
    "\n",
    "    if (results.pvalue < alpha):\n",
    "        print(\"Отвергаем нулевую гипотезу\")\n",
    "    else:\n",
    "        print(\"Не получилось отвергнуть нулевую гипотезу\")\n",
    "ttest(orders_r['summa'], orders_t['summa'])        "
   ]
  },
  {
   "cell_type": "markdown",
   "metadata": {},
   "source": [
    "Таким образом, нельзя утверждать, что среднии чеки покупок товаров из этих групп отличаются на статистически значимую величину."
   ]
  },
  {
   "cell_type": "markdown",
   "metadata": {},
   "source": [
    "##### Сравним средние суммы, оставленные покупателями товаров разных групп"
   ]
  },
  {
   "cell_type": "markdown",
   "metadata": {},
   "source": [
    "Выдвенем нулевую гипотезу: покупатели товаров из разных групп потратили одинаковое количество денег на покупки"
   ]
  },
  {
   "cell_type": "code",
   "execution_count": 32,
   "metadata": {},
   "outputs": [
    {
     "name": "stdout",
     "output_type": "stream",
     "text": [
      "p-значение: 0.8556410004327429\n",
      "Не получилось отвергнуть нулевую гипотезу\n"
     ]
    }
   ],
   "source": [
    "ttest(customers_r['summa'],customers_t['summa'])"
   ]
  },
  {
   "cell_type": "markdown",
   "metadata": {},
   "source": [
    "Судя по этому тесту: покупатели товаров из обеих групп одинаково ценны для нашего магазина."
   ]
  },
  {
   "cell_type": "markdown",
   "metadata": {},
   "source": [
    "##### Проверим эти гипотезы еще раз, исключив выбросы:"
   ]
  },
  {
   "cell_type": "code",
   "execution_count": 33,
   "metadata": {},
   "outputs": [
    {
     "name": "stdout",
     "output_type": "stream",
     "text": [
      "[2269.6 4384.6]\n",
      "[4574.   8512.71]\n",
      "1582.6371911573472\n",
      "1438.1052114060963\n"
     ]
    }
   ],
   "source": [
    "print(np.percentile(orders_r['summa'], [95, 99]))\n",
    "print(np.percentile(orders_t['summa'], [95, 99]))\n",
    "print(orders_r['summa'].mean())\n",
    "print(orders_t['summa'].mean())"
   ]
  },
  {
   "cell_type": "markdown",
   "metadata": {},
   "source": [
    "Чтоб исключить минимум 1 % выбросов, заказы стоимость выше 4385 уберем из данных"
   ]
  },
  {
   "cell_type": "code",
   "execution_count": 34,
   "metadata": {},
   "outputs": [
    {
     "name": "stdout",
     "output_type": "stream",
     "text": [
      "638.7674113009199\n",
      "1046.33714880333\n"
     ]
    }
   ],
   "source": [
    "orders_r_new = orders_r[orders_r['summa'] < 4385]\n",
    "orders_t_new = orders_t[orders_t['summa'] < 4385]\n",
    "print(orders_r_new['summa'].mean())\n",
    "print(orders_t_new['summa'].mean())"
   ]
  },
  {
   "cell_type": "markdown",
   "metadata": {},
   "source": [
    "Проведем тест по очищенным данным"
   ]
  },
  {
   "cell_type": "code",
   "execution_count": 35,
   "metadata": {},
   "outputs": [
    {
     "name": "stdout",
     "output_type": "stream",
     "text": [
      "p-значение: 1.3981804407635286e-33\n",
      "Отвергаем нулевую гипотезу\n"
     ]
    }
   ],
   "source": [
    "ttest(orders_r_new['summa'], orders_t_new['summa'])"
   ]
  },
  {
   "cell_type": "markdown",
   "metadata": {},
   "source": [
    "Убрав выбросы, можно утверждать, что с большой долей вероятности, средняя стоимость заказа из категории \"товары для дома\" выше, чем из категории \"растения\"."
   ]
  },
  {
   "cell_type": "markdown",
   "metadata": {},
   "source": [
    "Проделаем то же с затратами пользователей"
   ]
  },
  {
   "cell_type": "code",
   "execution_count": 36,
   "metadata": {},
   "outputs": [
    {
     "name": "stdout",
     "output_type": "stream",
     "text": [
      "[2692.5 4640.6]\n",
      "[4865.4  9884.32]\n",
      "1811.6934984520124\n",
      "1620.5573407202216\n"
     ]
    }
   ],
   "source": [
    "print(np.percentile(customers_r['summa'], [95, 99]))\n",
    "print(np.percentile(customers_t['summa'], [95, 99]))\n",
    "print(customers_r['summa'].mean())\n",
    "print(customers_t['summa'].mean())"
   ]
  },
  {
   "cell_type": "markdown",
   "metadata": {},
   "source": [
    "Исключим минимум 1% выбросов, и посмотрим как изменится среднии и результаты теста."
   ]
  },
  {
   "cell_type": "code",
   "execution_count": 37,
   "metadata": {},
   "outputs": [
    {
     "name": "stdout",
     "output_type": "stream",
     "text": [
      "702.7527386541472\n",
      "1083.4625730994153\n"
     ]
    }
   ],
   "source": [
    "customers_r_new = customers_r[customers_r['summa'] < 4640]\n",
    "customers_t_new = customers_t[customers_t['summa'] < 4640]\n",
    "print(customers_r_new['summa'].mean())\n",
    "print(customers_t_new['summa'].mean())"
   ]
  },
  {
   "cell_type": "code",
   "execution_count": 38,
   "metadata": {},
   "outputs": [
    {
     "name": "stdout",
     "output_type": "stream",
     "text": [
      "p-значение: 2.4884147865063023e-21\n",
      "Отвергаем нулевую гипотезу\n"
     ]
    }
   ],
   "source": [
    "ttest(customers_r_new['summa'],customers_t_new['summa'])"
   ]
  },
  {
   "cell_type": "markdown",
   "metadata": {},
   "source": [
    "Без выбросов, становится очевидно, что пользователи, покупавшие товары из группы \"товары для дома\" приносят больше выручки магазину."
   ]
  },
  {
   "cell_type": "markdown",
   "metadata": {},
   "source": [
    "### ВЫВОДЫ:<a id='step5'></a>\n",
    "- товары из разных групп продаются в течении года по разному: товары для дома продаются более-менее равномерно в течении всего периода, а растения покупают гораздо активнее в мае и июне;\n",
    "- стоимоть одного проданного товара из группы \"растения\" редко превышает 200 рублей, цена товаров для дома гораздо разнообразнее, из этой категории часто продают более дорогие товары;\n",
    "- большинство покупателей покупает только один товар в заказе, это характерно для обоих групп, но больше выражено в группе товаров для дома;\n",
    "- к сожалению большинство наших клиентов делает только 1 покупку и больше не возвращаются;\n",
    "- средний чек покупки и количество денег, потраченных клиентом заметно выше в категории товаров для дома.\n"
   ]
  },
  {
   "cell_type": "markdown",
   "metadata": {},
   "source": [
    "##### Рекомендации маркетологам:\n",
    "- необходимо мотивировать клиента покупать больше одного продукта в заказе;\n",
    "- нужно найти причину, почему пользователи редко возвращаются, и увеличить повторные заказы клиентов;\n",
    "- лучше больше сосредоточится на продвижении товаров для дома, так как товары из этой группы продаются в течении всего года и приносят больше выручки. "
   ]
  },
  {
   "cell_type": "markdown",
   "metadata": {},
   "source": [
    "<div class=\"alert alert-success\"> \n",
    "    \n",
    "Отлично! Коротко и ёмко, поставленные цели достигнуты, выводы и рекомендации сделаны. Презентация очень симпатичная.  \n",
    "    \n",
    "Разделение товаров на категории получилось очень компактным, но при этом работающим: у групп ярко выраженная сезонность, редко пересекаются в покупках. Класс!\n",
    "    \n",
    "Вопрос только к дашборду: что-то у меня цифры не бьются. И там кол-во пользователей, похоже, всегда совпадает с количеством заказов.  \n",
    "Проверял по табличке ниже:\n",
    "\n",
    "</div>"
   ]
  },
  {
   "cell_type": "code",
   "execution_count": 39,
   "metadata": {},
   "outputs": [
    {
     "data": {
      "text/html": [
       "<div>\n",
       "<style scoped>\n",
       "    .dataframe tbody tr th:only-of-type {\n",
       "        vertical-align: middle;\n",
       "    }\n",
       "\n",
       "    .dataframe tbody tr th {\n",
       "        vertical-align: top;\n",
       "    }\n",
       "\n",
       "    .dataframe thead th {\n",
       "        text-align: right;\n",
       "    }\n",
       "</style>\n",
       "<table border=\"1\" class=\"dataframe\">\n",
       "  <thead>\n",
       "    <tr style=\"text-align: right;\">\n",
       "      <th></th>\n",
       "      <th>customer_id</th>\n",
       "      <th>order_id</th>\n",
       "      <th>diff</th>\n",
       "    </tr>\n",
       "    <tr>\n",
       "      <th>day</th>\n",
       "      <th></th>\n",
       "      <th></th>\n",
       "      <th></th>\n",
       "    </tr>\n",
       "  </thead>\n",
       "  <tbody>\n",
       "    <tr>\n",
       "      <th>2018-10-08</th>\n",
       "      <td>9</td>\n",
       "      <td>14</td>\n",
       "      <td>5</td>\n",
       "    </tr>\n",
       "    <tr>\n",
       "      <th>2019-02-11</th>\n",
       "      <td>11</td>\n",
       "      <td>15</td>\n",
       "      <td>4</td>\n",
       "    </tr>\n",
       "    <tr>\n",
       "      <th>2019-04-19</th>\n",
       "      <td>2</td>\n",
       "      <td>6</td>\n",
       "      <td>4</td>\n",
       "    </tr>\n",
       "    <tr>\n",
       "      <th>2018-12-10</th>\n",
       "      <td>13</td>\n",
       "      <td>17</td>\n",
       "      <td>4</td>\n",
       "    </tr>\n",
       "    <tr>\n",
       "      <th>2018-10-09</th>\n",
       "      <td>9</td>\n",
       "      <td>13</td>\n",
       "      <td>4</td>\n",
       "    </tr>\n",
       "    <tr>\n",
       "      <th>2018-12-24</th>\n",
       "      <td>14</td>\n",
       "      <td>18</td>\n",
       "      <td>4</td>\n",
       "    </tr>\n",
       "    <tr>\n",
       "      <th>2019-10-16</th>\n",
       "      <td>15</td>\n",
       "      <td>18</td>\n",
       "      <td>3</td>\n",
       "    </tr>\n",
       "    <tr>\n",
       "      <th>2018-12-17</th>\n",
       "      <td>14</td>\n",
       "      <td>17</td>\n",
       "      <td>3</td>\n",
       "    </tr>\n",
       "    <tr>\n",
       "      <th>2019-03-01</th>\n",
       "      <td>15</td>\n",
       "      <td>18</td>\n",
       "      <td>3</td>\n",
       "    </tr>\n",
       "    <tr>\n",
       "      <th>2018-10-02</th>\n",
       "      <td>11</td>\n",
       "      <td>14</td>\n",
       "      <td>3</td>\n",
       "    </tr>\n",
       "  </tbody>\n",
       "</table>\n",
       "</div>"
      ],
      "text/plain": [
       "            customer_id  order_id  diff\n",
       "day                                    \n",
       "2018-10-08            9        14     5\n",
       "2019-02-11           11        15     4\n",
       "2019-04-19            2         6     4\n",
       "2018-12-10           13        17     4\n",
       "2018-10-09            9        13     4\n",
       "2018-12-24           14        18     4\n",
       "2019-10-16           15        18     3\n",
       "2018-12-17           14        17     3\n",
       "2019-03-01           15        18     3\n",
       "2018-10-02           11        14     3"
      ]
     },
     "execution_count": 39,
     "metadata": {},
     "output_type": "execute_result"
    }
   ],
   "source": [
    "data['day'] = data['date'].dt.normalize()\n",
    "\n",
    "example = data.groupby('day').agg({'customer_id': 'nunique', 'order_id': 'nunique'})\n",
    "example['diff'] = np.abs(example['customer_id'] - example['order_id'])\n",
    "\n",
    "example.sort_values('diff', ascending=False).head(10)"
   ]
  },
  {
   "cell_type": "code",
   "execution_count": null,
   "metadata": {},
   "outputs": [],
   "source": []
  }
 ],
 "metadata": {
  "kernelspec": {
   "display_name": "Python 3",
   "language": "python",
   "name": "python3"
  },
  "language_info": {
   "codemirror_mode": {
    "name": "ipython",
    "version": 3
   },
   "file_extension": ".py",
   "mimetype": "text/x-python",
   "name": "python",
   "nbconvert_exporter": "python",
   "pygments_lexer": "ipython3",
   "version": "3.8.5"
  }
 },
 "nbformat": 4,
 "nbformat_minor": 2
}
