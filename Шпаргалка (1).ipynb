{
 "cells": [
  {
   "cell_type": "code",
   "execution_count": 1,
   "metadata": {},
   "outputs": [],
   "source": [
    "import pandas as pd\n",
    "import numpy as np"
   ]
  },
  {
   "cell_type": "code",
   "execution_count": 2,
   "metadata": {},
   "outputs": [
    {
     "data": {
      "text/html": [
       "<div>\n",
       "<style scoped>\n",
       "    .dataframe tbody tr th:only-of-type {\n",
       "        vertical-align: middle;\n",
       "    }\n",
       "\n",
       "    .dataframe tbody tr th {\n",
       "        vertical-align: top;\n",
       "    }\n",
       "\n",
       "    .dataframe thead th {\n",
       "        text-align: right;\n",
       "    }\n",
       "</style>\n",
       "<table border=\"1\" class=\"dataframe\">\n",
       "  <thead>\n",
       "    <tr style=\"text-align: right;\">\n",
       "      <th></th>\n",
       "      <th>name</th>\n",
       "      <th>ages</th>\n",
       "      <th>strong_hand</th>\n",
       "      <th>work_days</th>\n",
       "      <th>lateness</th>\n",
       "    </tr>\n",
       "  </thead>\n",
       "  <tbody>\n",
       "    <tr>\n",
       "      <th>0</th>\n",
       "      <td>Паша</td>\n",
       "      <td>27</td>\n",
       "      <td>right</td>\n",
       "      <td>226</td>\n",
       "      <td>11</td>\n",
       "    </tr>\n",
       "    <tr>\n",
       "      <th>1</th>\n",
       "      <td>Дима</td>\n",
       "      <td>23</td>\n",
       "      <td>left</td>\n",
       "      <td>243</td>\n",
       "      <td>15</td>\n",
       "    </tr>\n",
       "    <tr>\n",
       "      <th>2</th>\n",
       "      <td>Коля</td>\n",
       "      <td>32</td>\n",
       "      <td>[right, left]</td>\n",
       "      <td>251</td>\n",
       "      <td>0</td>\n",
       "    </tr>\n",
       "    <tr>\n",
       "      <th>3</th>\n",
       "      <td>Саша</td>\n",
       "      <td>30</td>\n",
       "      <td>right</td>\n",
       "      <td>189</td>\n",
       "      <td>7</td>\n",
       "    </tr>\n",
       "    <tr>\n",
       "      <th>4</th>\n",
       "      <td>Семен</td>\n",
       "      <td>33</td>\n",
       "      <td>[left, right]</td>\n",
       "      <td>247</td>\n",
       "      <td>22</td>\n",
       "    </tr>\n",
       "  </tbody>\n",
       "</table>\n",
       "</div>"
      ],
      "text/plain": [
       "    name  ages    strong_hand  work_days  lateness\n",
       "0   Паша    27          right        226        11\n",
       "1   Дима    23           left        243        15\n",
       "2   Коля    32  [right, left]        251         0\n",
       "3   Саша    30          right        189         7\n",
       "4  Семен    33  [left, right]        247        22"
      ]
     },
     "metadata": {},
     "output_type": "display_data"
    },
    {
     "data": {
      "text/html": [
       "<div>\n",
       "<style scoped>\n",
       "    .dataframe tbody tr th:only-of-type {\n",
       "        vertical-align: middle;\n",
       "    }\n",
       "\n",
       "    .dataframe tbody tr th {\n",
       "        vertical-align: top;\n",
       "    }\n",
       "\n",
       "    .dataframe thead th {\n",
       "        text-align: right;\n",
       "    }\n",
       "</style>\n",
       "<table border=\"1\" class=\"dataframe\">\n",
       "  <thead>\n",
       "    <tr style=\"text-align: right;\">\n",
       "      <th></th>\n",
       "      <th>name</th>\n",
       "      <th>ages</th>\n",
       "      <th>work_days</th>\n",
       "      <th>lateness</th>\n",
       "      <th>weight_in_may</th>\n",
       "      <th>weight_in_november</th>\n",
       "    </tr>\n",
       "  </thead>\n",
       "  <tbody>\n",
       "    <tr>\n",
       "      <th>0</th>\n",
       "      <td>Аня</td>\n",
       "      <td>22</td>\n",
       "      <td>205</td>\n",
       "      <td>19</td>\n",
       "      <td>52</td>\n",
       "      <td>53</td>\n",
       "    </tr>\n",
       "    <tr>\n",
       "      <th>1</th>\n",
       "      <td>Даша</td>\n",
       "      <td>23</td>\n",
       "      <td>215</td>\n",
       "      <td>16</td>\n",
       "      <td>67</td>\n",
       "      <td>58</td>\n",
       "    </tr>\n",
       "    <tr>\n",
       "      <th>2</th>\n",
       "      <td>Леся</td>\n",
       "      <td>30</td>\n",
       "      <td>254</td>\n",
       "      <td>14</td>\n",
       "      <td>58</td>\n",
       "      <td>59</td>\n",
       "    </tr>\n",
       "    <tr>\n",
       "      <th>3</th>\n",
       "      <td>Инна</td>\n",
       "      <td>20</td>\n",
       "      <td>198</td>\n",
       "      <td>9</td>\n",
       "      <td>76</td>\n",
       "      <td>79</td>\n",
       "    </tr>\n",
       "    <tr>\n",
       "      <th>4</th>\n",
       "      <td>Маша</td>\n",
       "      <td>23</td>\n",
       "      <td>224</td>\n",
       "      <td>16</td>\n",
       "      <td>49</td>\n",
       "      <td>51</td>\n",
       "    </tr>\n",
       "  </tbody>\n",
       "</table>\n",
       "</div>"
      ],
      "text/plain": [
       "   name  ages  work_days  lateness  weight_in_may  weight_in_november\n",
       "0   Аня    22        205        19             52                  53\n",
       "1  Даша    23        215        16             67                  58\n",
       "2  Леся    30        254        14             58                  59\n",
       "3  Инна    20        198         9             76                  79\n",
       "4  Маша    23        224        16             49                  51"
      ]
     },
     "metadata": {},
     "output_type": "display_data"
    }
   ],
   "source": [
    "df = pd.DataFrame({'name':['Паша', 'Дима', 'Коля', 'Саша', 'Семен'],\\\n",
    "                   'ages':[27,23,32,30,33],\\\n",
    "                   'strong_hand':['right', 'left', ['right', 'left'], 'right', ['left','right']],\\\n",
    "                  'work_days':[226,243,251,189,247],\\\n",
    "                  'lateness':[11,15,0,7,22]})\n",
    "\n",
    "df_2 = pd.DataFrame({'name':['Аня', 'Даша', 'Леся', 'Инна', 'Маша'],\\\n",
    "                     'ages':[22,23,30,20,23],\\\n",
    "                    'work_days':[205,215,254,198,224],\\\n",
    "                    'lateness':[19,16,14,9,16],\\\n",
    "                   'weight_in_may':[52,67,58,76,49],\\\n",
    "                   'weight_in_november':[53,58,59,79,51]})\n",
    "display(df)\n",
    "display(df_2)"
   ]
  },
  {
   "cell_type": "markdown",
   "metadata": {},
   "source": [
    "## Редко используемые функции"
   ]
  },
  {
   "cell_type": "markdown",
   "metadata": {},
   "source": [
    "Функция для разложения списка из колонки таблицы на строки"
   ]
  },
  {
   "cell_type": "code",
   "execution_count": 3,
   "metadata": {},
   "outputs": [
    {
     "data": {
      "text/html": [
       "<div>\n",
       "<style scoped>\n",
       "    .dataframe tbody tr th:only-of-type {\n",
       "        vertical-align: middle;\n",
       "    }\n",
       "\n",
       "    .dataframe tbody tr th {\n",
       "        vertical-align: top;\n",
       "    }\n",
       "\n",
       "    .dataframe thead th {\n",
       "        text-align: right;\n",
       "    }\n",
       "</style>\n",
       "<table border=\"1\" class=\"dataframe\">\n",
       "  <thead>\n",
       "    <tr style=\"text-align: right;\">\n",
       "      <th></th>\n",
       "      <th>name</th>\n",
       "      <th>ages</th>\n",
       "      <th>strong_hand</th>\n",
       "      <th>work_days</th>\n",
       "      <th>lateness</th>\n",
       "    </tr>\n",
       "  </thead>\n",
       "  <tbody>\n",
       "    <tr>\n",
       "      <th>0</th>\n",
       "      <td>Паша</td>\n",
       "      <td>27</td>\n",
       "      <td>right</td>\n",
       "      <td>226</td>\n",
       "      <td>11</td>\n",
       "    </tr>\n",
       "    <tr>\n",
       "      <th>1</th>\n",
       "      <td>Дима</td>\n",
       "      <td>23</td>\n",
       "      <td>left</td>\n",
       "      <td>243</td>\n",
       "      <td>15</td>\n",
       "    </tr>\n",
       "    <tr>\n",
       "      <th>2</th>\n",
       "      <td>Коля</td>\n",
       "      <td>32</td>\n",
       "      <td>right</td>\n",
       "      <td>251</td>\n",
       "      <td>0</td>\n",
       "    </tr>\n",
       "    <tr>\n",
       "      <th>2</th>\n",
       "      <td>Коля</td>\n",
       "      <td>32</td>\n",
       "      <td>left</td>\n",
       "      <td>251</td>\n",
       "      <td>0</td>\n",
       "    </tr>\n",
       "    <tr>\n",
       "      <th>3</th>\n",
       "      <td>Саша</td>\n",
       "      <td>30</td>\n",
       "      <td>right</td>\n",
       "      <td>189</td>\n",
       "      <td>7</td>\n",
       "    </tr>\n",
       "    <tr>\n",
       "      <th>4</th>\n",
       "      <td>Семен</td>\n",
       "      <td>33</td>\n",
       "      <td>left</td>\n",
       "      <td>247</td>\n",
       "      <td>22</td>\n",
       "    </tr>\n",
       "    <tr>\n",
       "      <th>4</th>\n",
       "      <td>Семен</td>\n",
       "      <td>33</td>\n",
       "      <td>right</td>\n",
       "      <td>247</td>\n",
       "      <td>22</td>\n",
       "    </tr>\n",
       "  </tbody>\n",
       "</table>\n",
       "</div>"
      ],
      "text/plain": [
       "    name  ages strong_hand  work_days  lateness\n",
       "0   Паша    27       right        226        11\n",
       "1   Дима    23        left        243        15\n",
       "2   Коля    32       right        251         0\n",
       "2   Коля    32        left        251         0\n",
       "3   Саша    30       right        189         7\n",
       "4  Семен    33        left        247        22\n",
       "4  Семен    33       right        247        22"
      ]
     },
     "execution_count": 3,
     "metadata": {},
     "output_type": "execute_result"
    }
   ],
   "source": [
    "df.explode('strong_hand')"
   ]
  },
  {
   "cell_type": "markdown",
   "metadata": {},
   "source": [
    "Функция для забора данных из Гугл таблиц"
   ]
  },
  {
   "cell_type": "code",
   "execution_count": 4,
   "metadata": {},
   "outputs": [],
   "source": [
    "def read_gsheet(id, list_id=None):\n",
    "    link = 'https://docs.google.com/spreadsheets/d/' + id + '/export?format=csv'\n",
    "    if list_id:\n",
    "        link += f'&gid={list_id}'\n",
    "    return pd.read_csv(link)"
   ]
  },
  {
   "cell_type": "markdown",
   "metadata": {},
   "source": [
    "Добавление строки \"Итого\" к датафрейму"
   ]
  },
  {
   "cell_type": "code",
   "execution_count": 5,
   "metadata": {},
   "outputs": [
    {
     "data": {
      "text/html": [
       "<div>\n",
       "<style scoped>\n",
       "    .dataframe tbody tr th:only-of-type {\n",
       "        vertical-align: middle;\n",
       "    }\n",
       "\n",
       "    .dataframe tbody tr th {\n",
       "        vertical-align: top;\n",
       "    }\n",
       "\n",
       "    .dataframe thead th {\n",
       "        text-align: right;\n",
       "    }\n",
       "</style>\n",
       "<table border=\"1\" class=\"dataframe\">\n",
       "  <thead>\n",
       "    <tr style=\"text-align: right;\">\n",
       "      <th></th>\n",
       "      <th>name</th>\n",
       "      <th>ages</th>\n",
       "      <th>strong_hand</th>\n",
       "      <th>work_days</th>\n",
       "      <th>lateness</th>\n",
       "    </tr>\n",
       "  </thead>\n",
       "  <tbody>\n",
       "    <tr>\n",
       "      <th>0</th>\n",
       "      <td>Паша</td>\n",
       "      <td>27.0</td>\n",
       "      <td>right</td>\n",
       "      <td>226.0</td>\n",
       "      <td>11.0</td>\n",
       "    </tr>\n",
       "    <tr>\n",
       "      <th>1</th>\n",
       "      <td>Дима</td>\n",
       "      <td>23.0</td>\n",
       "      <td>left</td>\n",
       "      <td>243.0</td>\n",
       "      <td>15.0</td>\n",
       "    </tr>\n",
       "    <tr>\n",
       "      <th>2</th>\n",
       "      <td>Коля</td>\n",
       "      <td>32.0</td>\n",
       "      <td>[right, left]</td>\n",
       "      <td>251.0</td>\n",
       "      <td>0.0</td>\n",
       "    </tr>\n",
       "    <tr>\n",
       "      <th>3</th>\n",
       "      <td>Саша</td>\n",
       "      <td>30.0</td>\n",
       "      <td>right</td>\n",
       "      <td>189.0</td>\n",
       "      <td>7.0</td>\n",
       "    </tr>\n",
       "    <tr>\n",
       "      <th>4</th>\n",
       "      <td>Семен</td>\n",
       "      <td>33.0</td>\n",
       "      <td>[left, right]</td>\n",
       "      <td>247.0</td>\n",
       "      <td>22.0</td>\n",
       "    </tr>\n",
       "    <tr>\n",
       "      <th>5</th>\n",
       "      <td>NaN</td>\n",
       "      <td>145.0</td>\n",
       "      <td>NaN</td>\n",
       "      <td>1156.0</td>\n",
       "      <td>55.0</td>\n",
       "    </tr>\n",
       "  </tbody>\n",
       "</table>\n",
       "</div>"
      ],
      "text/plain": [
       "    name   ages    strong_hand  work_days  lateness\n",
       "0   Паша   27.0          right      226.0      11.0\n",
       "1   Дима   23.0           left      243.0      15.0\n",
       "2   Коля   32.0  [right, left]      251.0       0.0\n",
       "3   Саша   30.0          right      189.0       7.0\n",
       "4  Семен   33.0  [left, right]      247.0      22.0\n",
       "5    NaN  145.0            NaN     1156.0      55.0"
      ]
     },
     "execution_count": 5,
     "metadata": {},
     "output_type": "execute_result"
    }
   ],
   "source": [
    "df.append(df.sum(numeric_only=True), ignore_index=True)"
   ]
  },
  {
   "cell_type": "markdown",
   "metadata": {},
   "source": [
    "## Использование статистических тестов"
   ]
  },
  {
   "cell_type": "code",
   "execution_count": 5,
   "metadata": {},
   "outputs": [],
   "source": [
    "from statsmodels.stats.proportion import proportion_effectsize\n",
    "from statsmodels.stats.power import zt_ind_solve_power\n",
    "\n",
    "# функция, для подсчета времени, необходимого на тест изменения конверсии при указании абсолютного эффекта\n",
    "def need_group_size_absolute(month_size, actual_conv_rate, min_effect_size, alpha, power):\n",
    "    \n",
    "    effect_size = proportion_effectsize(actual_conv_rate, actual_conv_rate + min_effect_size)\n",
    "    # calculate the sample size for each group\n",
    "    sample_size = zt_ind_solve_power(effect_size=effect_size, alpha=alpha, power=power, alternative='two-sided')\n",
    "    # round the sample size to the nearest whole number\n",
    "    rounded_sample_size = round(sample_size)\n",
    "    days = (rounded_sample_size * 2) / (month_size / 30)\n",
    "    \n",
    "    print(f\"\"\"\n",
    "Alpha: {alpha}\n",
    "Power: {power} \n",
    "Rel. MDE(absolute): {min_effect_size:.1%} \n",
    "Group Size: {rounded_sample_size}\n",
    "Estimated test duration: {days:.0f}\n",
    "If no changes detected we may loose: {int(round(month_size * actual_conv_rate - (actual_conv_rate - min_effect_size * actual_conv_rate) * month_size, 0))}\n",
    "\"\"\")\n",
    "    \n",
    "    \n",
    "    # функция, для подсчета времени, необходимого на тест конверсии при указании относительного эффекта\n",
    "def need_group_size_relative(month_size, actual_conv_rate, min_effect_size, alpha, power):\n",
    "    control_conv_rate = actual_conv_rate\n",
    "    treatment_conv_rate = control_conv_rate * (1 + min_effect_size)\n",
    "    mde = (treatment_conv_rate - control_conv_rate) / control_conv_rate\n",
    "    effect_size = proportion_effectsize(treatment_conv_rate, control_conv_rate)\n",
    "    sample_size = zt_ind_solve_power(effect_size=effect_size, nobs1=None, alpha=alpha, power=power, ratio=1.0, alternative='two-sided')\n",
    "    rounded_sample_size = round(sample_size)\n",
    "    days = (rounded_sample_size * 2) / (month_size / 30)\n",
    "    \n",
    "    print(f\"\"\"\n",
    "Alpha: {alpha}\n",
    "Power: {power} \n",
    "Rel. MDE(relative): {min_effect_size:.1%} \n",
    "Group Size: {rounded_sample_size}\n",
    "Estimated test duration: {days:.0f}\n",
    "If no changes detected we may loose: {int(round(month_size * actual_conv_rate - (actual_conv_rate - min_effect_size * actual_conv_rate) * month_size, 0))}\n",
    "\"\"\")"
   ]
  },
  {
   "cell_type": "code",
   "execution_count": 11,
   "metadata": {},
   "outputs": [
    {
     "name": "stdout",
     "output_type": "stream",
     "text": [
      "\n",
      "Alpha: 0.05\n",
      "Power: 0.8 \n",
      "Rel. MDE(relative): 3.0% \n",
      "Group Size: 70545\n",
      "Estimated test duration: 85\n",
      "If no changes detected we may loose: 300\n",
      "\n"
     ]
    }
   ],
   "source": [
    "need_group_size_relative(50000, 0.2, 0.03, 0.05, 0.8)"
   ]
  },
  {
   "cell_type": "markdown",
   "metadata": {},
   "source": [
    "Ошибки первого и второго рода:\n",
    "alpha - вероятность обнаружить различия там, где их нет (на самом деле нулевая гипотеза верна, но мы ее отвергаем)- ошибка 1 рода\n",
    "beta - вероятность не обнаружить различия там, где они присутствуют (гипотеза не верна, но мы ее не отвергли)- ошибка 2 рода"
   ]
  },
  {
   "cell_type": "code",
   "execution_count": 6,
   "metadata": {},
   "outputs": [],
   "source": [
    "from scipy import stats as st\n",
    "alpha = 0.05"
   ]
  },
  {
   "cell_type": "markdown",
   "metadata": {},
   "source": [
    "Проверка гипотезы о равенстве среднего генеральной совокупности некоторому значению"
   ]
  },
  {
   "cell_type": "code",
   "execution_count": 7,
   "metadata": {},
   "outputs": [
    {
     "name": "stdout",
     "output_type": "stream",
     "text": [
      "Средний возраст парней из выборки равен: 29.0 лет\n",
      "p-значение:  0.3327105135083833\n",
      "Недостаточно оснований отклонить нулевую гипотезу о равенстве среднего возраста всех парней 31 году \n"
     ]
    }
   ],
   "source": [
    "\n",
    "print('Средний возраст парней из выборки равен: {:.1f} лет'.format(df['ages'].mean()))\n",
    "results = st.ttest_1samp(df['ages'], 31)\n",
    "# df['ages'] - выборка\n",
    "# 31 - предполагаемое среднее, на равенство которому мы делаем тест\n",
    "print('p-значение: ', results.pvalue)\n",
    "\n",
    "if results.pvalue < alpha:\n",
    "    print('Отклоняем нулевую гипотезу о равенстве среднего возраста всех парней 31 году')\n",
    "else:\n",
    "    print('Недостаточно оснований отклонить нулевую гипотезу о равенстве среднего возраста всех парней 31 году ')"
   ]
  },
  {
   "cell_type": "markdown",
   "metadata": {},
   "source": [
    "Проверка гипотезы о равенстве среднего двух генеральных совокупностей по взятым из них выборкам"
   ]
  },
  {
   "cell_type": "code",
   "execution_count": 8,
   "metadata": {},
   "outputs": [
    {
     "name": "stdout",
     "output_type": "stream",
     "text": [
      "Средний возраст выборки парней: 29.0 лет\n",
      "Средний возраст выборки девушек: 23.6 лет\n",
      "p-значение:  0.061269663745989425\n",
      "Недостаточно оснований отклонить нулевую гипотезу о равенстве среднего возраста парней и девушек\n"
     ]
    }
   ],
   "source": [
    "sample_1 = df['ages'] #- выборка из первой генеральной совокупности\n",
    "sample_2 = df_2['ages'] #- выборка из второй генеральной совокупности\n",
    "\n",
    "print('Средний возраст выборки парней: {:.1f} лет'.format(sample_1.mean()))\n",
    "print('Средний возраст выборки девушек: {:.1f} лет'.format(sample_2.mean()))\n",
    "\n",
    "results = st.ttest_ind(sample_1, sample_2, equal_var = True)\n",
    "# equal_var - считать ли равными дисперсии выборок, по умолчанию имеет значение True\n",
    "print('p-значение: ', results.pvalue)\n",
    "\n",
    "if results.pvalue < alpha:\n",
    "    print('Отклоняем нулевую гипотезу о равенстве среднего возраста парней и девушек')\n",
    "else:\n",
    "    print('Недостаточно оснований отклонить нулевую гипотезу о равенстве среднего возраста парней и девушек')"
   ]
  },
  {
   "cell_type": "markdown",
   "metadata": {},
   "source": [
    "Проверка гипотезы о равенстве средних двух генеральных совокупностей для зависимых (парных) выборок"
   ]
  },
  {
   "cell_type": "code",
   "execution_count": 9,
   "metadata": {},
   "outputs": [
    {
     "name": "stdout",
     "output_type": "stream",
     "text": [
      "Средний вес выборки девушек в мае: 60.4 кг\n",
      "Средний вес выборки девушек в ноябре: 60.0 кг\n",
      "p-значение:  0.8634497235108648\n",
      "Недостаточно оснований отклонить нулевую гипотезу о равенстве среднего веса девушек в мае и ноябре\n"
     ]
    }
   ],
   "source": [
    "before = df_2['weight_in_may']\n",
    "after = df_2['weight_in_november']\n",
    "\n",
    "print('Средний вес выборки девушек в мае: {:.1f} кг'.format(before.mean()))\n",
    "print('Средний вес выборки девушек в ноябре: {:.1f} кг'.format(after.mean()))\n",
    "\n",
    "results = st.ttest_rel(before, after)\n",
    "print('p-значение: ', results.pvalue)\n",
    "\n",
    "if results.pvalue < alpha:\n",
    "    print('Отклоняем нулевую гипотезу о равенстве среднего веса девушек в мае и ноябре')\n",
    "else:\n",
    "    print('Недостаточно оснований отклонить нулевую гипотезу о равенстве среднего веса девушек в мае и ноябре')"
   ]
  },
  {
   "cell_type": "markdown",
   "metadata": {},
   "source": [
    "Проверка гипотезы о равенстве конверсий"
   ]
  },
  {
   "cell_type": "code",
   "execution_count": 11,
   "metadata": {},
   "outputs": [
    {
     "name": "stdout",
     "output_type": "stream",
     "text": [
      "Парни: 55 из 1156 , конверсия в опаздания: 4.76%\n",
      "Девушки: 74 из 1096 , конверсия в опаздания: 6.75%\n",
      "P-value равен: 0.04182\n",
      "Отклоняем нулевую гипотезу о равенстве частоты опозданий на работу у парней и девушек, c вероятностью более 95% конверсии различаются\n"
     ]
    }
   ],
   "source": [
    "from statsmodels.stats.proportion import proportions_ztest\n",
    "\n",
    "mans_lateness = df['lateness'].sum()\n",
    "womans_lateness = df_2['lateness'].sum()\n",
    "\n",
    "mans_work_days = df['work_days'].sum()\n",
    "womans_work_days = df_2['work_days'].sum()\n",
    "\n",
    "print('Парни:', mans_lateness, 'из', mans_work_days, ', конверсия в опаздания: {:.2%}'.format(mans_lateness/mans_work_days))\n",
    "print('Девушки:', womans_lateness, 'из', womans_work_days, ', конверсия в опаздания: {:.2%}'.format(womans_lateness/womans_work_days))\n",
    "\n",
    "days_with_lateness = np.array([mans_lateness, womans_lateness]) # - oпазданий у парней и опазданий у девушек\n",
    "total_days = np.array([mans_work_days, womans_work_days]) # - рабочих дней у парней и девушек\n",
    "\n",
    "stat, pvalue = proportions_ztest(days_with_lateness, total_days)\n",
    "\n",
    "print('P-value равен: {:.5f}'.format(pvalue))\n",
    "\n",
    "if pvalue < alpha:\n",
    "    print('Отклоняем нулевую гипотезу о равенстве частоты опозданий на работу у парней и девушек, c вероятностью более 95% конверсии различаются')\n",
    "else:\n",
    "    print('Недостаточно оснований отклонить нулевую гипотезу о равенстве частоты опазданий парней и девушек')"
   ]
  },
  {
   "cell_type": "markdown",
   "metadata": {},
   "source": [
    "## Визуализация данных"
   ]
  },
  {
   "cell_type": "code",
   "execution_count": null,
   "metadata": {},
   "outputs": [],
   "source": []
  }
 ],
 "metadata": {
  "kernelspec": {
   "display_name": "Python 3",
   "language": "python",
   "name": "python3"
  },
  "language_info": {
   "codemirror_mode": {
    "name": "ipython",
    "version": 3
   },
   "file_extension": ".py",
   "mimetype": "text/x-python",
   "name": "python",
   "nbconvert_exporter": "python",
   "pygments_lexer": "ipython3",
   "version": "3.6.8"
  },
  "toc": {
   "base_numbering": 1,
   "nav_menu": {},
   "number_sections": true,
   "sideBar": true,
   "skip_h1_title": false,
   "title_cell": "Table of Contents",
   "title_sidebar": "Contents",
   "toc_cell": false,
   "toc_position": {},
   "toc_section_display": true,
   "toc_window_display": false
  }
 },
 "nbformat": 4,
 "nbformat_minor": 2
}
